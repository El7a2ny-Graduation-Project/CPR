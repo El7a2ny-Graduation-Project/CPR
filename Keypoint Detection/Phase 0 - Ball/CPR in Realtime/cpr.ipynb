{
 "cells": [
  {
   "cell_type": "code",
   "execution_count": null,
   "metadata": {},
   "outputs": [],
   "source": [
    "import cv2\n",
    "import threading\n",
    "from queue import Queue\n",
    "\n",
    "# bufferless VideoCapture\n",
    "class VideoCapture:\n",
    "\n",
    "    def __init__(self, name, IP):\n",
    "        self.cap = cv2.VideoCapture(name)\n",
    "        self.cap.open(IP)  # comment this line if you don't need to operate using mobile camera\n",
    "        self.q = Queue()\n",
    "        self.running = True\n",
    "        self.thread = threading.Thread(target=self._reader)\n",
    "        self.thread.daemon = True\n",
    "        self.thread.start()\n",
    "\n",
    "    # read frames as soon as they are available, keeping only most recent one\n",
    "    def _reader(self):\n",
    "        while self.running:\n",
    "            ret, frame = self.cap.read()\n",
    "            if not ret:\n",
    "                break\n",
    "            if not self.q.empty():\n",
    "                try:\n",
    "                    self.q.get_nowait()  # discard previous (unprocessed) frame\n",
    "                except Queue.Empty:\n",
    "                    pass\n",
    "            self.q.put(frame)\n",
    "\n",
    "    def read(self):\n",
    "        return self.q.get()\n",
    "\n",
    "    def release(self):\n",
    "        self.running = False\n",
    "        self.thread.join()  # Ensure the thread has finished\n",
    "        self.cap.release()\n",
    "\n",
    "cap = VideoCapture(0, \"https://192.168.1.9:8080/video\")\n",
    "\n",
    "cv2.namedWindow('frame')\n",
    "\n",
    "try:\n",
    "    while True:\n",
    "        # Capture frame from camera\n",
    "        frame = cap.read()\n",
    "        #! frame = cv2.rotate(frame, cv2.ROTATE_90_CLOCKWISE)\n",
    "\n",
    "        # Display the resulting frame\n",
    "        cv2.imshow(\"frame\", frame)\n",
    "\n",
    "        # Exit the loop on 'q' key press\n",
    "        if cv2.waitKey(1) & 0xFF == ord('q'):\n",
    "            break\n",
    "finally:\n",
    "    # Release the camera and close all OpenCV windows\n",
    "    cap.release()\n",
    "    cv2.destroyAllWindows()"
   ]
  },
  {
   "cell_type": "code",
   "execution_count": null,
   "metadata": {},
   "outputs": [],
   "source": []
  }
 ],
 "metadata": {
  "kernelspec": {
   "display_name": "base",
   "language": "python",
   "name": "python3"
  },
  "language_info": {
   "codemirror_mode": {
    "name": "ipython",
    "version": 3
   },
   "file_extension": ".py",
   "mimetype": "text/x-python",
   "name": "python",
   "nbconvert_exporter": "python",
   "pygments_lexer": "ipython3",
   "version": "3.11.5"
  }
 },
 "nbformat": 4,
 "nbformat_minor": 2
}
