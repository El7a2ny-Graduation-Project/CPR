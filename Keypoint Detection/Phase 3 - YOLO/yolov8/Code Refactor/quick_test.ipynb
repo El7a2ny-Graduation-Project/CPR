{
 "cells": [
  {
   "cell_type": "code",
   "execution_count": null,
   "id": "c819609e",
   "metadata": {},
   "outputs": [],
   "source": [
    "# Example notebook usage\n",
    "from pose_estimation import PoseEstimator\n",
    "from role_classifier import RoleClassifier\n",
    "from metrics_calculator import MetricsCalculator\n",
    "\n",
    "# Test pose estimation\n",
    "estimator = PoseEstimator()\n",
    "frame = cv2.imread(\"test_frame.jpg\")\n",
    "results = estimator.detect_poses(frame)\n",
    "annotated = estimator.draw_keypoints(frame, results)\n",
    "cv2.imshow(\"Pose Test\", annotated)\n",
    "\n",
    "# Test metrics calculation\n",
    "calculator = MetricsCalculator()\n",
    "calculator.smooth_midpoints(midpoints_data)\n",
    "calculator.detect_peaks()\n",
    "calculator.plot_motion_curve()"
   ]
  }
 ],
 "metadata": {
  "language_info": {
   "name": "python"
  }
 },
 "nbformat": 4,
 "nbformat_minor": 5
}
