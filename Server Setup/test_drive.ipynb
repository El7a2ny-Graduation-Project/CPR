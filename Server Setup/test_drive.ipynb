{
 "cells": [
  {
   "cell_type": "markdown",
   "id": "remarkable-branch",
   "metadata": {},
   "source": [
    "# To Download a file from google drive\n",
    "#### Note le Fatema: Just change the link, Note tanya le Fatema: el file names/folder names betenzel zay ma heya 3al drive, Note talta: el rename bye4ta8al 3ady sawa2 hena aw 3ala drive"
   ]
  },
  {
   "cell_type": "code",
   "execution_count": 2,
   "id": "endangered-compromise",
   "metadata": {},
   "outputs": [
    {
     "name": "stderr",
     "output_type": "stream",
     "text": [
      "Downloading...\n",
      "From: https://drive.google.com/uc?id=1Qvi2h2qL7F0WTun8aSfJwxtuwHuFmLF-\n",
      "To: /home/group6/7aget_shattah.json\n",
      "100%|██████████| 13.4M/13.4M [00:01<00:00, 10.5MB/s]\n"
     ]
    },
    {
     "data": {
      "text/plain": [
       "'7aget_shattah.json'"
      ]
     },
     "execution_count": 2,
     "metadata": {},
     "output_type": "execute_result"
    }
   ],
   "source": [
    "#collapse-output\n",
    "import gdown\n",
    "\n",
    "url = 'https://drive.google.com/file/d/1Qvi2h2qL7F0WTun8aSfJwxtuwHuFmLF-/view?usp=sharing'\n",
    "output_path = '7aget_shattah.json'\n",
    "gdown.download(url, output_path, quiet=False,fuzzy=True)"
   ]
  },
  {
   "cell_type": "markdown",
   "id": "loved-amplifier",
   "metadata": {},
   "source": [
    "# To download a folder from google drive\n",
    "#### Note le Fatema: Just change the link, Note tanya le Fatema: el file names/folder names betenzel zay ma heya 3al drive, Note talta: el rename bye4ta8al 3ady sawa2 hena aw 3ala drive"
   ]
  },
  {
   "cell_type": "code",
   "execution_count": 4,
   "id": "possible-sharp",
   "metadata": {},
   "outputs": [
    {
     "data": {
      "text/plain": [
       "['/home/group6/Assignment1/lab1_1.JPG',\n",
       " '/home/group6/Assignment1/lab1_2.py',\n",
       " '/home/group6/Assignment1/lab1_3.py',\n",
       " '/home/group6/Assignment1/lab1_4.py',\n",
       " '/home/group6/Assignment1/lab1_5.py',\n",
       " '/home/group6/Assignment1/lab1_6.py',\n",
       " '/home/group6/Assignment1/lab1_7.py',\n",
       " '/home/group6/Assignment1/lab1_8.py',\n",
       " '/home/group6/Assignment1/lab1_9.py']"
      ]
     },
     "execution_count": 4,
     "metadata": {},
     "output_type": "execute_result"
    }
   ],
   "source": [
    "#collapse-output\n",
    "import gdown\n",
    "url = \"https://drive.google.com/drive/folders/1A-tZRc27FmQD_Ako17eLs22DBygNcJ7m?usp=sharing\"\n",
    "gdown.download_folder(url, quiet=True, use_cookies=False)"
   ]
  },
  {
   "cell_type": "code",
   "execution_count": null,
   "id": "bizarre-construction",
   "metadata": {},
   "outputs": [],
   "source": []
  }
 ],
 "metadata": {
  "kernelspec": {
   "display_name": "Python 3",
   "language": "python",
   "name": "python3"
  },
  "language_info": {
   "codemirror_mode": {
    "name": "ipython",
    "version": 3
   },
   "file_extension": ".py",
   "mimetype": "text/x-python",
   "name": "python",
   "nbconvert_exporter": "python",
   "pygments_lexer": "ipython3",
   "version": "3.6.9"
  }
 },
 "nbformat": 4,
 "nbformat_minor": 5
}
