{
 "cells": [
  {
   "cell_type": "code",
   "execution_count": null,
   "id": "eastern-montreal",
   "metadata": {
    "scrolled": true
   },
   "outputs": [],
   "source": [
    "# Cell 1: Download and compile OpenSSL (Fixed)\n",
    "from urllib.request import urlretrieve\n",
    "import tarfile\n",
    "import os\n",
    "\n",
    "# Cleanup and create directories\n",
    "openssl_dir = \"/home/group6/openssl\"\n",
    "source_dir = os.path.join(openssl_dir, \"openssl-3.0.13\")\n",
    "os.makedirs(openssl_dir, exist_ok=True)\n",
    "\n",
    "# Download OpenSSL\n",
    "openssl_url = \"https://www.openssl.org/source/openssl-3.0.13.tar.gz\"\n",
    "urlretrieve(openssl_url, os.path.join(openssl_dir, \"openssl.tar.gz\"))\n",
    "\n",
    "# Extract with explicit path handling\n",
    "with tarfile.open(os.path.join(openssl_dir, \"openssl.tar.gz\"), \"r:gz\") as tar:\n",
    "    tar.extractall(path=openssl_dir)\n",
    "\n",
    "# Navigate to extracted directory (critical for config/make)\n",
    "os.chdir(source_dir)\n",
    "\n",
    "# Compile OpenSSL\n",
    "!chmod +x ./config  # Ensure execute permissions\n",
    "!./config --prefix={openssl_dir} --openssldir={openssl_dir}\n",
    "!make -j$(nproc)\n",
    "!make install\n",
    "\n",
    "print(\"OpenSSL compiled successfully!\")"
   ]
  },
  {
   "cell_type": "code",
   "execution_count": null,
   "id": "imported-gossip",
   "metadata": {},
   "outputs": [],
   "source": [
    "# Check if OpenSSL libs exist\n",
    "!ls -l /home/group6/openssl/lib64/libssl*\n",
    "# Should show libssl.so and libcrypto.so"
   ]
  },
  {
   "cell_type": "code",
   "execution_count": null,
   "id": "preceding-dependence",
   "metadata": {
    "scrolled": true
   },
   "outputs": [],
   "source": [
    "%cd ~/python3.10/Python-3.10.13\n",
    "!make clean\n",
    "\n",
    "# Add --without-ensurepip to skip broken pip/setuptools installation\n",
    "!./configure \\\n",
    "--prefix=$HOME/python3.10 \\\n",
    "--with-openssl=$HOME/openssl \\\n",
    "--without-ensurepip \\\n",
    "LDFLAGS=\"-L$HOME/openssl/lib64 -Wl,-rpath=$HOME/openssl/lib64\" \\\n",
    "CPPFLAGS=\"-I$HOME/openssl/include\"\n",
    "\n",
    "# Compile and install Python\n",
    "!make -j$(nproc)\n",
    "!make install"
   ]
  },
  {
   "cell_type": "code",
   "execution_count": null,
   "id": "sufficient-aviation",
   "metadata": {
    "scrolled": true
   },
   "outputs": [],
   "source": [
    "# Download get-pip.py\n",
    "from urllib.request import urlretrieve\n",
    "urlretrieve(\"https://bootstrap.pypa.io/get-pip.py\", \"get-pip.py\")\n",
    "\n",
    "# Install pip with SSL support\n",
    "!~/python3.10/bin/python3.10 get-pip.py\n",
    "\n",
    "# Verify\n",
    "!~/python3.10/bin/python3.10 -m pip --version"
   ]
  },
  {
   "cell_type": "code",
   "execution_count": null,
   "id": "aware-sponsorship",
   "metadata": {},
   "outputs": [],
   "source": [
    "!rm -rf ~/venv\n",
    "!~/python3.10/bin/python3.10 -m venv ~/venv\n",
    "\n",
    "# Test SSL\n",
    "!~/venv/bin/python -c \"import ssl; print(ssl.OPENSSL_VERSION)\""
   ]
  }
 ],
 "metadata": {
  "kernelspec": {
   "display_name": "Python 3",
   "language": "python",
   "name": "python3"
  },
  "language_info": {
   "codemirror_mode": {
    "name": "ipython",
    "version": 3
   },
   "file_extension": ".py",
   "mimetype": "text/x-python",
   "name": "python",
   "nbconvert_exporter": "python",
   "pygments_lexer": "ipython3",
   "version": "3.6.9"
  }
 },
 "nbformat": 4,
 "nbformat_minor": 5
}
