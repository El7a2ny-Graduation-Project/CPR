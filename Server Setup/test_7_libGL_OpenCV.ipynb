{
 "cells": [
  {
   "cell_type": "markdown",
   "id": "unnecessary-duncan",
   "metadata": {},
   "source": [
    "The error occurs because OpenCV's GUI components require the libGL library, which isn't installed on your system. Since you don't have sudo access, we'll install it locally in your virtual environment.\n",
    "Since you don't have sudo access on the Ubuntu 18 server, we cannot install system-level GUI libraries like libgtk or libqt directly. However, we can work around this limitation in several ways."
   ]
  },
  {
   "cell_type": "code",
   "execution_count": null,
   "id": "conditional-currency",
   "metadata": {},
   "outputs": [],
   "source": [
    "%%bash\n",
    "~/venv/bin/pip install pysqlite3-binary\n",
    "~/venv/bin/python -c \"\n",
    "import sys\n",
    "import pysqlite3\n",
    "sys.modules['sqlite3'] = pysqlite3\n",
    "print('SQLite3 version:', pysqlite3.sqlite_version)\n",
    "\"\""
   ]
  },
  {
   "cell_type": "code",
   "execution_count": null,
   "id": "early-allergy",
   "metadata": {},
   "outputs": [],
   "source": [
    "%%bash\n",
    "echo \"Python path: $(~/venv/bin/python --version)\"\n",
    "echo \"Pip path: $(~/venv/bin/pip --version)\""
   ]
  },
  {
   "cell_type": "code",
   "execution_count": null,
   "id": "valid-taiwan",
   "metadata": {},
   "outputs": [],
   "source": [
    "%%bash\n",
    "# Force reinstall pip first (sometimes fixes broken envs)\n",
    "~/venv/bin/python -m pip install --upgrade --force-reinstall pip\n",
    "\n",
    "# Now install pysqlite3-binary\n",
    "~/venv/bin/pip install --no-cache-dir pysqlite3-binary\n",
    "\n",
    "# Test if it works\n",
    "~/venv/bin/python -c \"\n",
    "import pysqlite3 as sqlite3\n",
    "print('SQLite3 version:', sqlite3.sqlite_version)\n",
    "\""
   ]
  },
  {
   "cell_type": "code",
   "execution_count": 3,
   "id": "little-satellite",
   "metadata": {},
   "outputs": [
    {
     "name": "stdout",
     "output_type": "stream",
     "text": [
      "SQLite OK! Version: 3.46.1\n"
     ]
    }
   ],
   "source": [
    "%%bash\n",
    "~/venv/bin/python -c \"import sqlite3; print('SQLite OK! Version:', sqlite3.sqlite_version)\""
   ]
  },
  {
   "cell_type": "code",
   "execution_count": 7,
   "id": "recognized-adobe",
   "metadata": {},
   "outputs": [
    {
     "name": "stdout",
     "output_type": "stream",
     "text": [
      "Python 3.10.13\n"
     ]
    }
   ],
   "source": [
    "%%bash\n",
    "# Check if your venv exists and has Python 3.10\n",
    "if [ -f ~/venv/bin/python ]; then\n",
    "    ~/venv/bin/python --version\n",
    "else\n",
    "    echo \"Virtual environment not found at ~/venv\"\n",
    "fi"
   ]
  },
  {
   "cell_type": "code",
   "execution_count": 8,
   "id": "leading-reminder",
   "metadata": {},
   "outputs": [
    {
     "name": "stdout",
     "output_type": "stream",
     "text": [
      "Collecting opencv-python-headless\n",
      "  Downloading opencv_python_headless-4.11.0.86-cp37-abi3-manylinux_2_17_x86_64.manylinux2014_x86_64.whl.metadata (20 kB)\n",
      "Requirement already satisfied: numpy>=1.21.2 in ./venv/lib/python3.10/site-packages (from opencv-python-headless) (1.26.4)\n",
      "Downloading opencv_python_headless-4.11.0.86-cp37-abi3-manylinux_2_17_x86_64.manylinux2014_x86_64.whl (50.0 MB)\n",
      "   ������������������������������������������������������������������������������������������������������������������������ 50.0/50.0 MB 11.6 MB/s eta 0:00:00\n",
      "Installing collected packages: opencv-python-headless\n",
      "Successfully installed opencv-python-headless-4.11.0.86\n",
      "OpenCV version: 4.11.0\n"
     ]
    }
   ],
   "source": [
    "%%bash\n",
    "# Install OpenCV directly in your venv\n",
    "~/venv/bin/pip install --no-cache-dir opencv-python-headless\n",
    "\n",
    "# Verify installation\n",
    "~/venv/bin/python -c \"import cv2; print('OpenCV version:', cv2.__version__)\""
   ]
  },
  {
   "cell_type": "code",
   "execution_count": null,
   "id": "bored-exposure",
   "metadata": {},
   "outputs": [],
   "source": []
  }
 ],
 "metadata": {
  "kernelspec": {
   "display_name": "Python 3",
   "language": "python",
   "name": "python3"
  },
  "language_info": {
   "codemirror_mode": {
    "name": "ipython",
    "version": 3
   },
   "file_extension": ".py",
   "mimetype": "text/x-python",
   "name": "python",
   "nbconvert_exporter": "python",
   "pygments_lexer": "ipython3",
   "version": "3.6.9"
  }
 },
 "nbformat": 4,
 "nbformat_minor": 5
}
