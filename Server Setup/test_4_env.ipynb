{
 "cells": [
  {
   "cell_type": "markdown",
   "id": "western-return",
   "metadata": {},
   "source": [
    "## Correct Zlib Compilation (Linux-Specific)"
   ]
  },
  {
   "cell_type": "code",
   "execution_count": null,
   "id": "tight-hazard",
   "metadata": {
    "scrolled": true
   },
   "outputs": [],
   "source": [
    "from urllib.request import urlretrieve\n",
    "import tarfile\n",
    "import os\n",
    "\n",
    "# Cleanup previous attempts\n",
    "!rm -rf ~/zlib\n",
    "os.makedirs(\"/home/group6/zlib\", exist_ok=True)\n",
    "\n",
    "# Download zlib\n",
    "zlib_url = \"https://zlib.net/zlib-1.3.1.tar.gz\"\n",
    "urlretrieve(zlib_url, \"/home/group6/zlib/zlib.tar.gz\")\n",
    "\n",
    "# Extract\n",
    "with tarfile.open(\"/home/group6/zlib/zlib.tar.gz\", \"r:gz\") as tar:\n",
    "    tar.extractall(\"/home/group6/zlib\")\n",
    "\n",
    "# Compile for Linux\n",
    "%cd /home/group6/zlib/zlib-1.3.1\n",
    "!./configure --prefix=$HOME/zlib\n",
    "!make\n",
    "!make install\n",
    "\n",
    "print(\"Zlib compiled successfully!\")"
   ]
  },
  {
   "cell_type": "markdown",
   "id": "entire-transformation",
   "metadata": {},
   "source": [
    "## Rebuild Python with Zlib Support"
   ]
  },
  {
   "cell_type": "code",
   "execution_count": null,
   "id": "talented-appliance",
   "metadata": {
    "scrolled": true
   },
   "outputs": [],
   "source": [
    "%cd ~/python3.10/Python-3.10.13\n",
    "!make clean\n",
    "!./configure \\\n",
    "  --prefix=$HOME/python3.10 \\\n",
    "  CPPFLAGS=\"-I$HOME/zlib/include\" \\\n",
    "  LDFLAGS=\"-L$HOME/zlib/lib\"\n",
    "!make -j$(nproc)\n",
    "!make install"
   ]
  },
  {
   "cell_type": "markdown",
   "id": "caring-queen",
   "metadata": {},
   "source": [
    "## Create Persistent Virtual Environment"
   ]
  },
  {
   "cell_type": "code",
   "execution_count": null,
   "id": "macro-porcelain",
   "metadata": {},
   "outputs": [],
   "source": [
    "# Cleanup old environments\n",
    "!rm -rf ~/venv\n",
    "\n",
    "# Create new environment\n",
    "!~/python3.10/bin/python3.10 -m venv ~/venv\n",
    "\n",
    "# Verify\n",
    "!ls -l ~/venv/bin/python  # Should point to your Python 3.10\n",
    "!~/venv/bin/python -c \"import zlib; print('Zlib working!')\""
   ]
  },
  {
   "cell_type": "markdown",
   "id": "behind-filling",
   "metadata": {},
   "source": [
    "## Permanent Terminal Access"
   ]
  },
  {
   "cell_type": "code",
   "execution_count": null,
   "id": "working-commonwealth",
   "metadata": {},
   "outputs": [],
   "source": [
    "# Add alias to .bashrc\n",
    "with open(os.path.expanduser(\"~/.bashrc\"), \"a\") as f:\n",
    "    f.write('\\nalias pyenv=\"source ~/venv/bin/activate\"\\n')\n",
    "\n",
    "print(\"\"\"\\nEnvironment ready!\n",
    "Restart terminal or run:\n",
    "  source ~/.bashrc\n",
    "Then use 'pyenv' to activate\"\"\")"
   ]
  },
  {
   "cell_type": "markdown",
   "id": "bright-gardening",
   "metadata": {},
   "source": [
    "## Usage After Setup (Run from any terminal)"
   ]
  },
  {
   "cell_type": "code",
   "execution_count": null,
   "id": "entitled-mistake",
   "metadata": {},
   "outputs": [],
   "source": [
    "# Activate environment\n",
    "pyenv\n",
    "\n",
    "# Check Python/zlib\n",
    "python --version  # Should show 3.10.13\n",
    "python -c \"import zlib; print(zlib.__version__)\"\n",
    "\n",
    "# Install packages\n",
    "pip install numpy opencv-python torch\n",
    "\n",
    "# Deactivate when done\n",
    "deactivate"
   ]
  }
 ],
 "metadata": {
  "kernelspec": {
   "display_name": "Python 3",
   "language": "python",
   "name": "python3"
  },
  "language_info": {
   "codemirror_mode": {
    "name": "ipython",
    "version": 3
   },
   "file_extension": ".py",
   "mimetype": "text/x-python",
   "name": "python",
   "nbconvert_exporter": "python",
   "pygments_lexer": "ipython3",
   "version": "3.6.9"
  }
 },
 "nbformat": 4,
 "nbformat_minor": 5
}
