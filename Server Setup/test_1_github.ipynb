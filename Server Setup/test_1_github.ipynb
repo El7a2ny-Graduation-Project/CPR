{
 "cells": [
  {
   "cell_type": "markdown",
   "id": "visible-exposure",
   "metadata": {},
   "source": [
    "## Download GitHub Zipped File"
   ]
  },
  {
   "cell_type": "code",
   "execution_count": 3,
   "id": "handed-overhead",
   "metadata": {},
   "outputs": [
    {
     "name": "stdout",
     "output_type": "stream",
     "text": [
      "Repository downloaded to: <REPO>-master\n"
     ]
    }
   ],
   "source": [
    "import urllib.request\n",
    "import zipfile\n",
    "import os\n",
    "\n",
    "# Configure these values\n",
    "repo_url = \"https://github.com/FatemaKotb/lightweight-human-pose-estimation.pytorch\"\n",
    "branch = \"master\"  # or \"master\" if the repo uses that\n",
    "\n",
    "# Download the ZIP\n",
    "zip_url = f\"{repo_url}/archive/refs/heads/{branch}.zip\"\n",
    "zip_file, _ = urllib.request.urlretrieve(zip_url)\n",
    "\n",
    "# Extract the ZIP\n",
    "with zipfile.ZipFile(zip_file, 'r') as f:\n",
    "    f.extractall()\n",
    "\n",
    "# Clean up (optional)\n",
    "os.remove(zip_file)\n",
    "\n",
    "print(f\"Repository downloaded to: <REPO>-{branch}\")"
   ]
  }
 ],
 "metadata": {
  "kernelspec": {
   "display_name": "Python 3",
   "language": "python",
   "name": "python3"
  },
  "language_info": {
   "codemirror_mode": {
    "name": "ipython",
    "version": 3
   },
   "file_extension": ".py",
   "mimetype": "text/x-python",
   "name": "python",
   "nbconvert_exporter": "python",
   "pygments_lexer": "ipython3",
   "version": "3.6.9"
  }
 },
 "nbformat": 4,
 "nbformat_minor": 5
}
