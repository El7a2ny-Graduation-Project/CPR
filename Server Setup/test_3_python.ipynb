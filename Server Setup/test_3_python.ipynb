{
 "cells": [
  {
   "cell_type": "markdown",
   "id": "assured-peoples",
   "metadata": {},
   "source": [
    "## Download Python 3.10"
   ]
  },
  {
   "cell_type": "code",
   "execution_count": null,
   "id": "packed-grade",
   "metadata": {},
   "outputs": [],
   "source": [
    "from urllib.request import urlretrieve\n",
    "import os\n",
    "\n",
    "# Create the directory\n",
    "os.makedirs(\"/home/group6/python3.10\", exist_ok=True)\n",
    "\n",
    "# Download Python 3.10 source code\n",
    "url = \"https://www.python.org/ftp/python/3.10.13/Python-3.10.13.tgz\"\n",
    "dest = \"/home/group6/python3.10/Python-3.10.13.tgz\"\n",
    "urlretrieve(url, dest)\n",
    "\n",
    "print(\"Download completed!\")"
   ]
  },
  {
   "cell_type": "markdown",
   "id": "lonely-chess",
   "metadata": {},
   "source": [
    "## Extract Python .tar"
   ]
  },
  {
   "cell_type": "code",
   "execution_count": null,
   "id": "aggressive-seafood",
   "metadata": {},
   "outputs": [],
   "source": [
    "import tarfile\n",
    "\n",
    "# Extract the downloaded file\n",
    "with tarfile.open(dest, 'r:gz') as tar:\n",
    "    tar.extractall(path=\"/home/group6/python3.10\")\n",
    "\n",
    "print(\"Extraction completed!\")"
   ]
  },
  {
   "cell_type": "markdown",
   "id": "surface-tampa",
   "metadata": {},
   "source": [
    "## Configure & Compile Python"
   ]
  },
  {
   "cell_type": "code",
   "execution_count": null,
   "id": "governmental-blake",
   "metadata": {
    "scrolled": true
   },
   "outputs": [],
   "source": [
    "# Navigate to the extracted directory\n",
    "%cd /home/group6/python3.10/Python-3.10.13\n",
    "\n",
    "# Configure and compile\n",
    "!./configure --prefix=$HOME/python3.10\n",
    "!make -j$(nproc)\n",
    "!make install"
   ]
  },
  {
   "cell_type": "markdown",
   "id": "behind-shield",
   "metadata": {},
   "source": [
    "## Ensure Python .tgz exists"
   ]
  },
  {
   "cell_type": "code",
   "execution_count": 1,
   "id": "hollywood-adult",
   "metadata": {},
   "outputs": [
    {
     "name": "stdout",
     "output_type": "stream",
     "text": [
      "-rw-rw-r-- 1 group6 group6 4726784 Apr 18 13:29 /home/group6/python3.10/Python-3.10.13.tgz\n"
     ]
    }
   ],
   "source": [
    "# Run this to confirm the .tgz file exists\n",
    "!ls -l /home/group6/python3.10/Python-3.10.13.tgz"
   ]
  },
  {
   "cell_type": "markdown",
   "id": "swedish-brunswick",
   "metadata": {},
   "source": [
    "## Check for gcc & make"
   ]
  },
  {
   "cell_type": "code",
   "execution_count": 2,
   "id": "cardiovascular-arcade",
   "metadata": {},
   "outputs": [
    {
     "name": "stdout",
     "output_type": "stream",
     "text": [
      "/usr/bin/gcc\n",
      "/usr/bin/make\n"
     ]
    }
   ],
   "source": [
    "# Check for gcc\n",
    "!which gcc\n",
    "\n",
    "# Check for make\n",
    "!which make"
   ]
  },
  {
   "cell_type": "markdown",
   "id": "studied-luxury",
   "metadata": {},
   "source": [
    "## Go Back to Home Directory"
   ]
  },
  {
   "cell_type": "code",
   "execution_count": 3,
   "id": "sufficient-success",
   "metadata": {},
   "outputs": [
    {
     "name": "stdout",
     "output_type": "stream",
     "text": [
      "/home/group6\n"
     ]
    }
   ],
   "source": [
    "# Example: Navigate to the correct folder\n",
    "%cd /home/group6"
   ]
  }
 ],
 "metadata": {
  "kernelspec": {
   "display_name": "Python 3",
   "language": "python",
   "name": "python3"
  },
  "language_info": {
   "codemirror_mode": {
    "name": "ipython",
    "version": 3
   },
   "file_extension": ".py",
   "mimetype": "text/x-python",
   "name": "python",
   "nbconvert_exporter": "python",
   "pygments_lexer": "ipython3",
   "version": "3.6.9"
  }
 },
 "nbformat": 4,
 "nbformat_minor": 5
}
