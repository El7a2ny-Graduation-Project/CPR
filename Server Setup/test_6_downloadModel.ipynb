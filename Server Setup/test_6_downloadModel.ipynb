{
 "cells": [
  {
   "cell_type": "markdown",
   "id": "blessed-extent",
   "metadata": {},
   "source": [
    "## Download the Pre Trained Model from Google Drive"
   ]
  },
  {
   "cell_type": "code",
   "execution_count": 1,
   "id": "laden-toddler",
   "metadata": {},
   "outputs": [
    {
     "name": "stderr",
     "output_type": "stream",
     "text": [
      "Downloading...\n",
      "From: https://drive.google.com/uc?id=1lR9PG7NbhdlQKm_-8VPPcaMjhdPYtPjx\n",
      "To: /home/group6/lightweight_openpose/models\n",
      "100%|██████████| 88.0M/88.0M [00:07<00:00, 11.3MB/s]\n"
     ]
    },
    {
     "data": {
      "text/plain": [
       "'lightweight_openpose/models'"
      ]
     },
     "execution_count": 1,
     "metadata": {},
     "output_type": "execute_result"
    }
   ],
   "source": [
    "#collapse-output\n",
    "import gdown\n",
    "\n",
    "url = 'https://drive.google.com/file/d/1lR9PG7NbhdlQKm_-8VPPcaMjhdPYtPjx/view?usp=sharing'\n",
    "output_path = 'lightweight_openpose/models'\n",
    "gdown.download(url, output_path, quiet=False,fuzzy=True)"
   ]
  },
  {
   "cell_type": "code",
   "execution_count": 2,
   "id": "simplified-olympus",
   "metadata": {},
   "outputs": [
    {
     "name": "stderr",
     "output_type": "stream",
     "text": [
      "Downloading...\n",
      "From: https://drive.google.com/uc?id=1yAN0Zg_FCHHvP1E3CbdMBHWcnt13kFYn\n",
      "To: /home/group6/lightweight_openpose\n",
      "100%|██████████| 1.49M/1.49M [00:00<00:00, 5.36MB/s]\n"
     ]
    },
    {
     "data": {
      "text/plain": [
       "'lightweight_openpose'"
      ]
     },
     "execution_count": 2,
     "metadata": {},
     "output_type": "execute_result"
    }
   ],
   "source": [
    "#collapse-output\n",
    "import gdown\n",
    "\n",
    "url = 'https://drive.google.com/file/d/1yAN0Zg_FCHHvP1E3CbdMBHWcnt13kFYn/view?usp=sharing'\n",
    "output_path = 'lightweight_openpose'\n",
    "gdown.download(url, output_path, quiet=False,fuzzy=True)"
   ]
  },
  {
   "cell_type": "code",
   "execution_count": null,
   "id": "revised-folder",
   "metadata": {},
   "outputs": [],
   "source": []
  }
 ],
 "metadata": {
  "kernelspec": {
   "display_name": "Python 3",
   "language": "python",
   "name": "python3"
  },
  "language_info": {
   "codemirror_mode": {
    "name": "ipython",
    "version": 3
   },
   "file_extension": ".py",
   "mimetype": "text/x-python",
   "name": "python",
   "nbconvert_exporter": "python",
   "pygments_lexer": "ipython3",
   "version": "3.6.9"
  }
 },
 "nbformat": 4,
 "nbformat_minor": 5
}
