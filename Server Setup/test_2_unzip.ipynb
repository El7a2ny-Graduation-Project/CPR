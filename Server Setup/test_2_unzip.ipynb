{
 "cells": [
  {
   "cell_type": "markdown",
   "id": "toxic-jurisdiction",
   "metadata": {},
   "source": [
    "## Unzip File"
   ]
  },
  {
   "cell_type": "code",
   "execution_count": 4,
   "id": "dutch-daniel",
   "metadata": {},
   "outputs": [],
   "source": [
    "import zipfile\n",
    "\n",
    "with zipfile.ZipFile(\"test_zip.zip\", 'r') as zip_ref:\n",
    "    zip_ref.extractall(\"\")  # Omit folder to extract to current directory"
   ]
  }
 ],
 "metadata": {
  "kernelspec": {
   "display_name": "Python 3",
   "language": "python",
   "name": "python3"
  },
  "language_info": {
   "codemirror_mode": {
    "name": "ipython",
    "version": 3
   },
   "file_extension": ".py",
   "mimetype": "text/x-python",
   "name": "python",
   "nbconvert_exporter": "python",
   "pygments_lexer": "ipython3",
   "version": "3.6.9"
  }
 },
 "nbformat": 4,
 "nbformat_minor": 5
}
