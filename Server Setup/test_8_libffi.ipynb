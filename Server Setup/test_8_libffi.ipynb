{
 "cells": [
  {
   "cell_type": "code",
   "execution_count": 1,
   "id": "about-scott",
   "metadata": {},
   "outputs": [
    {
     "name": "stdout",
     "output_type": "stream",
     "text": [
      "libffi not found in accessible locations\n"
     ]
    }
   ],
   "source": [
    "%%bash\n",
    "# Check for libffi in common locations\n",
    "ls ~/.local/lib/ | grep libffi || \\\n",
    "ls /usr/local/lib/ | grep libffi || \\\n",
    "echo \"libffi not found in accessible locations\""
   ]
  },
  {
   "cell_type": "code",
   "execution_count": null,
   "id": "labeled-michael",
   "metadata": {},
   "outputs": [],
   "source": []
  }
 ],
 "metadata": {
  "kernelspec": {
   "display_name": "Python 3",
   "language": "python",
   "name": "python3"
  },
  "language_info": {
   "codemirror_mode": {
    "name": "ipython",
    "version": 3
   },
   "file_extension": ".py",
   "mimetype": "text/x-python",
   "name": "python",
   "nbconvert_exporter": "python",
   "pygments_lexer": "ipython3",
   "version": "3.6.9"
  }
 },
 "nbformat": 4,
 "nbformat_minor": 5
}
